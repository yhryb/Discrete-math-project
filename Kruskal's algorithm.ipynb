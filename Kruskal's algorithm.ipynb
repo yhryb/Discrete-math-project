{
 "cells": [
  {
   "cell_type": "code",
   "execution_count": 21,
   "metadata": {},
   "outputs": [],
   "source": [
    "import networkx as nx\n",
    "import random\n",
    "import matplotlib.pyplot as plt"
   ]
  },
  {
   "cell_type": "markdown",
   "metadata": {},
   "source": [
    "First we will create a class that can display graph both as an adjacency matrix and as adjacency lists. \n",
    "Next we need to set up the Kruskul's algorithm. To do that we need to use Union Find. \n",
    "Then, using created functions, define the Kruskal's algorithm."
   ]
  },
  {
   "cell_type": "code",
   "execution_count": 28,
   "metadata": {},
   "outputs": [],
   "source": [
    "class Graph:\n",
    "    def __init__(self, vertices):\n",
    "        self.V = vertices\n",
    "        self.graph_list = [] #adjacency list\n",
    "        self.graph_matrix = [[0] * vertices for value in range(vertices)] #generates a list of lists where length depends on the number of vertices\n",
    "\n",
    "    def add_edge_list(self, u, v, w):\n",
    "        self.graph_list.append((u, v, w))\n",
    "        \n",
    "    def add_edge_matrix(self, u, v, w): #u, v - dif vertices, w - weight\n",
    "        self.graph[u][v] = w\n",
    "        self.graph[v][u] = w #works both ways for undirected graph\n",
    "       \n",
    "    #Union Find \n",
    "    def find(self, parent, element): \n",
    "        if parent[element] == element:   \n",
    "            return element \n",
    "        else: #recursion \n",
    "            result = find(parent[element]) \n",
    "            parent[element] = result \n",
    "            return result \n",
    "        \n",
    "    def union(self, parent, rank, x, y): #x, y - dif sets\n",
    "        xroot = find(parent, x)\n",
    "        yroot = find(parent, y)\n",
    "        if rank[xroot] < rank[yroot]: #smaller rank tree under higher rank tree\n",
    "            parent[xroot] = yroot\n",
    "        elif rank[xroot] > rank[yroot]:\n",
    "            parent[yroot] = xroot\n",
    "        else: #if ranks are tha same just add up to one of them\n",
    "            parent[yroot] = xroot\n",
    "            rank[xroot] += 1\n",
    "\n",
    "    def kruskal_algorithm(graph):\n",
    "        mst = []  #minimum spanning tree\n",
    "        i = 0 #already sorted edges\n",
    "        e = 0 #number of edges added to mst\n",
    "        graph.graph = sorted(graph.graph, key=lambda item: item[2])\n",
    "        parent = []\n",
    "        rank = []\n",
    "        for vertice in range(graph.V):\n",
    "            parent.append(vertice)\n",
    "            rank.append(0)\n",
    "        while e < graph.V - 1: #finding the smallest edge and adding it to i, then going upwards\n",
    "            u, v, w = graph.graph[i]\n",
    "            i = i + 1\n",
    "            x = find(parent, u)\n",
    "            y = find(parent, v)\n",
    "            if x != y:\n",
    "                e = e + 1\n",
    "                mst.append((u, v, w))\n",
    "                union(parent, rank, x, y)\n",
    "        return mst\n",
    "\n",
    "        \n",
    "    def display(self, adjacency_matrix=False):\n",
    "        if adjacency_matrix:\n",
    "            for row in self.graph_matrix:\n",
    "                print(\" \".join(map(str, row))) #converts rows to strings and joins with spaces\n",
    "        else:\n",
    "            G = nx.Graph() #network library\n",
    "            G.add_weighted_edges_from(self.graph_list)\n",
    "            edge_labels = {(u, v): str(w) for u, v, w in self.graph_list}  # Create a dictionary of edge labels\n",
    "            nx.draw(G, with_labels=True)\n",
    "            nx.draw_networkx_edge_labels(G, pos=nx.spring_layout(G), edge_labels=edge_labels)\n",
    "            "
   ]
  },
  {
   "cell_type": "code",
   "execution_count": 32,
   "metadata": {},
   "outputs": [
    {
     "name": "stdout",
     "output_type": "stream",
     "text": [
      "0 0 0 0 0\n",
      "0 0 0 0 0\n",
      "0 0 0 0 0\n",
      "0 0 0 0 0\n",
      "0 0 0 0 0\n"
     ]
    },
    {
     "data": {
      "image/png": "[encoded data removed]",
      "text/plain": [
       "<Figure size 640x480 with 1 Axes>"
      ]
     },
     "metadata": {},
     "output_type": "display_data"
    }
   ],
   "source": [
    "graph = Graph(5)\n",
    "\n",
    "graph.add_edge_list(0, 1, 5)\n",
    "graph.add_edge_list(0, 2, 7)\n",
    "graph.add_edge_list(1, 2, 3)\n",
    "graph.add_edge_list(2, 3, 8)\n",
    "\n",
    "graph.display()\n",
    "\n",
    "graph.display(adjacency_matrix=True)"
   ]
  },
  {
   "cell_type": "code",
   "execution_count": 30,
   "metadata": {},
   "outputs": [],
   "source": [
    "def generate_random_graph(n_vertices, n_edges):\n",
    "    graph = Graph(n_vertices)\n",
    "    for value in range(n_edges):\n",
    "        u = random.randint(0, n_vertices-1)\n",
    "        v = random.randint(0, n_vertices-1)\n",
    "        w = random.randint(1, 10) #weight varies from 1 up to 10\n",
    "        graph.add_edge(u, v, w)\n",
    "    return graph"
   ]
  }
 ],
 "metadata": {
  "kernelspec": {
   "display_name": "Python 3",
   "language": "python",
   "name": "python3"
  },
  "language_info": {
   "codemirror_mode": {
    "name": "ipython",
    "version": 3
   },
   "file_extension": ".py",
   "mimetype": "text/x-python",
   "name": "python",
   "nbconvert_exporter": "python",
   "pygments_lexer": "ipython3",
   "version": "3.12.1"
  }
 },
 "nbformat": 4,
 "nbformat_minor": 2
}
